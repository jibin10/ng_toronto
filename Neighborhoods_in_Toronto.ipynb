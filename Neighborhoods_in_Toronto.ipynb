{
    "nbformat_minor": 0, 
    "cells": [
        {
            "execution_count": null, 
            "cell_type": "code", 
            "metadata": {
                "collapsed": true
            }, 
            "outputs": [], 
            "source": ""
        }
    ], 
    "metadata": {
        "kernelspec": {
            "name": "python3", 
            "language": "python"
        }
    }, 
    "nbformat": 4
}